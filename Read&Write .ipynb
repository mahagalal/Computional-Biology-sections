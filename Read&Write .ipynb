{
 "cells": [
  {
   "cell_type": "code",
   "execution_count": 1,
   "id": "3cb757f0",
   "metadata": {},
   "outputs": [],
   "source": [
    "file=open(\"test.txt\",\"w\")\n",
    "file.write(\"Now the file has more content!\")\n",
    "file.close()"
   ]
  },
  {
   "cell_type": "code",
   "execution_count": 2,
   "id": "ec1c570a",
   "metadata": {},
   "outputs": [
    {
     "name": "stdout",
     "output_type": "stream",
     "text": [
      "Now the file has more content!\n"
     ]
    }
   ],
   "source": [
    "f = open(\"test.txt\", \"r\")  \n",
    "print(f.read()) \n",
    "f.close() "
   ]
  },
  {
   "cell_type": "code",
   "execution_count": 3,
   "id": "6fc7c281",
   "metadata": {},
   "outputs": [
    {
     "name": "stdout",
     "output_type": "stream",
     "text": [
      "b'This bina'\n",
      "b'ry string will '\n"
     ]
    }
   ],
   "source": [
    "file = open(\"sample.bin\", \"wb\")\n",
    "file.write(b\"This binary string will be written to sample.bin\")\n",
    "file.close()\n",
    "file = open(\"sample.bin\", \"rb\") \n",
    "print(file.read(9))\n",
    "print(file.read(15))\n",
    "file.close()"
   ]
  },
  {
   "cell_type": "code",
   "execution_count": 4,
   "id": "219a77ff",
   "metadata": {},
   "outputs": [
    {
     "name": "stdout",
     "output_type": "stream",
     "text": [
      "[2, 4, 6, 8, 10]\n"
     ]
    }
   ],
   "source": [
    "file=open(\"array.bin\",\"wb\")\n",
    "num=[2,4,6,8,10]\n",
    "array=bytearray(num)\n",
    "file.write(array)\n",
    "file.close()\n",
    "f=open(\"array.bin\",\"rb\")\n",
    "num=list(f.read())\n",
    "print(num)\n",
    "f.close()"
   ]
  },
  {
   "cell_type": "code",
   "execution_count": null,
   "id": "c15bb6a1",
   "metadata": {},
   "outputs": [],
   "source": []
  }
 ],
 "metadata": {
  "kernelspec": {
   "display_name": "Python 3 (ipykernel)",
   "language": "python",
   "name": "python3"
  },
  "language_info": {
   "codemirror_mode": {
    "name": "ipython",
    "version": 3
   },
   "file_extension": ".py",
   "mimetype": "text/x-python",
   "name": "python",
   "nbconvert_exporter": "python",
   "pygments_lexer": "ipython3",
   "version": "3.9.12"
  }
 },
 "nbformat": 4,
 "nbformat_minor": 5
}
