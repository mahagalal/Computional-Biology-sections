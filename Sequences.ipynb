{
 "cells": [
  {
   "cell_type": "code",
   "execution_count": 1,
   "id": "4229c699",
   "metadata": {},
   "outputs": [],
   "source": [
    "from pyopenms import *"
   ]
  },
  {
   "cell_type": "code",
   "execution_count": 2,
   "id": "fe54e91b",
   "metadata": {},
   "outputs": [
    {
     "name": "stdout",
     "output_type": "stream",
     "text": [
      "Sequence: DFPIANGER\n",
      "Prefix: DFPI\n",
      "Suffix: ANGER\n",
      "Concatenated: DFPIANGERDFPIANGER\n"
     ]
    }
   ],
   "source": [
    "seq = AASequence.fromString(\"DFPIANGER\") \n",
    "prefix = seq.getPrefix(4)      \n",
    "suffix = seq.getSuffix(5) \n",
    "concat = seq + seq             \n",
    "print(\"Sequence:\", seq)\n",
    "print(\"Prefix:\", prefix)\n",
    "print(\"Suffix:\", suffix)\n",
    "print(\"Concatenated:\", concat)"
   ]
  },
  {
   "cell_type": "code",
   "execution_count": 3,
   "id": "8d8ca655",
   "metadata": {},
   "outputs": [
    {
     "name": "stdout",
     "output_type": "stream",
     "text": [
      "Monoisotopic mass of peptide [M] is 1017.4879641373001\n",
      "Monoisotopic mass of peptide precursor [M+2H]2+ is 1019.5025170708421\n",
      "Monoisotopic m/z of [M+2H]2+ is 509.7512585354211\n"
     ]
    }
   ],
   "source": [
    "mfull = seq.getMonoWeight()     \n",
    "mprecursor = seq.getMonoWeight(Residue.ResidueType.Full, 2)\n",
    "mz = seq.getMonoWeight(Residue.ResidueType.Full, 2) / 2.0    \n",
    "mz = seq.getMZ(2) \n",
    "print(\"Monoisotopic mass of peptide [M] is\", mfull)\n",
    "print(\"Monoisotopic mass of peptide precursor [M+2H]2+ is\", mprecursor)\n",
    "print(\"Monoisotopic m/z of [M+2H]2+ is\", mz)"
   ]
  },
  {
   "cell_type": "code",
   "execution_count": 4,
   "id": "4a3d0cd1",
   "metadata": {},
   "outputs": [
    {
     "name": "stdout",
     "output_type": "stream",
     "text": [
      "The peptide DFPIANGER consists of the following amino acids:\n",
      "Aspartate : 133.0375092233\n",
      "Phenylalanine : 165.07897935090003\n",
      "Proline : 115.06332928709999\n",
      "Isoleucine : 131.0946294147\n",
      "Alanine : 89.0476792233\n",
      "Asparagine : 132.0534932552\n",
      "Glycine : 75.0320291595\n",
      "Glutamate : 147.0531592871\n",
      "Arginine : 174.1116764466\n",
      "Peptide DFPIANGER has molecular formula C44H67N13O15\n"
     ]
    }
   ],
   "source": [
    "seq = AASequence.fromString(\"DFPIANGER\")\n",
    "print(\"The peptide\", str(seq), \"consists of the following amino acids:\")\n",
    "for aa in seq:\n",
    "    print(aa.getName(), \":\", aa.getMonoWeight())\n",
    "    seq = AASequence.fromString(\"DFPIANGER\")\n",
    "seq_formula = seq.getFormula()\n",
    "print(\"Peptide\", seq, \"has molecular formula\", seq_formula)"
   ]
  },
  {
   "cell_type": "code",
   "execution_count": 5,
   "id": "af61c21e",
   "metadata": {},
   "outputs": [
    {
     "name": "stdout",
     "output_type": "stream",
     "text": [
      "y3 ion sequence: GER\n",
      "y3 mz: 181.09514384957103\n",
      "y3 molecular formula: C13H24N6O6\n"
     ]
    }
   ],
   "source": [
    "suffix = seq.getSuffix(3)           \n",
    "print(\"y3 ion sequence:\", suffix)\n",
    "\n",
    "y3_formula = suffix.getFormula(Residue.ResidueType.YIon, 2)  \n",
    "suffix.getMonoWeight(Residue.ResidueType.YIon, 2) / 2.0            \n",
    "suffix.getMonoWeight(Residue.ResidueType.XIon, 2) / 2.0            \n",
    "print(\"y3 mz:\", suffix.getMonoWeight(Residue.ResidueType.YIon, 2) / 2.0 )\n",
    "\n",
    "print(\"y3 molecular formula:\", y3_formula)"
   ]
  },
  {
   "cell_type": "code",
   "execution_count": 6,
   "id": "99931490",
   "metadata": {},
   "outputs": [
    {
     "name": "stdout",
     "output_type": "stream",
     "text": [
      "PEPTIDESEKUEMCER\n",
      "PEPTIDESEKUEM(Oxidation)CER\n",
      "PEPTIDESEKUEM(UniMod:35)CER\n",
      "PEPTIDESEKUEM[147]CER\n",
      "PEPTIDESEKUEM[147.03540001709996]CER\n"
     ]
    }
   ],
   "source": [
    "seq = AASequence.fromString(\"PEPTIDESEKUEM(Oxidation)CER\")\n",
    "print(seq.toUnmodifiedString())\n",
    "print(seq.toString())\n",
    "print(seq.toUniModString())\n",
    "print(seq.toBracketString())\n",
    "print(seq.toBracketString(False))"
   ]
  },
  {
   "cell_type": "code",
   "execution_count": 8,
   "id": "cb831679",
   "metadata": {},
   "outputs": [
    {
     "name": "stdout",
     "output_type": "stream",
     "text": [
      "***********************************\n",
      "DFPIAM(Oxidation)GER\n",
      "DFPIAM(Oxidation)GER\n",
      "DFPIAM(Oxidation)GER\n",
      "DFPIAM(Oxidation)GER\n",
      "DFPIAM(Oxidation)GER\n"
     ]
    }
   ],
   "source": [
    "print(\"*\"*35)\n",
    "print(AASequence.fromString(\"DFPIAM(UniMod:35)GER\"))\n",
    "print(AASequence.fromString(\"DFPIAM[+16]GER\"))\n",
    "print(AASequence.fromString(\"DFPIAM[+15.99]GER\"))\n",
    "print(AASequence.fromString(\"DFPIAM[147]GER\"))\n",
    "print(AASequence.fromString(\"DFPIAM[147.035405]GER\"))"
   ]
  },
  {
   "cell_type": "code",
   "execution_count": 9,
   "id": "4f1a9320",
   "metadata": {},
   "outputs": [],
   "source": [
    "bsa = FASTAEntry() \n",
    "bsa.sequence = \"MKWVTFISLLLLFSSAYSRGVFRRDTHKSEIAHRFKDLGE\"\n",
    "bsa.description = \"BSA Bovine Albumin (partial sequence)\"\n",
    "bsa.identifier = \"BSA\"\n",
    "alb = FASTAEntry()\n",
    "alb.sequence = \"MKWVTFISLLFLFSSAYSRGVFRRDAHKSEVAHRFKDLGE\"\n",
    "alb.description = \"ALB Human Albumin (partial sequence)\"\n",
    "alb.identifier = \"ALB\"\n",
    "entries = [bsa, alb]\n",
    "f = FASTAFile()\n",
    "f.store(\"example.fasta\", entries)"
   ]
  },
  {
   "cell_type": "code",
   "execution_count": 10,
   "id": "fed5258b",
   "metadata": {},
   "outputs": [
    {
     "name": "stdout",
     "output_type": "stream",
     "text": [
      "2\n",
      "BSA MKWVTFISLLLLFSSAYSRGVFRRDTHKSEIAHRFKDLGE\n",
      "ALB MKWVTFISLLFLFSSAYSRGVFRRDAHKSEVAHRFKDLGE\n"
     ]
    }
   ],
   "source": [
    "entries = []\n",
    "f = FASTAFile()\n",
    "f.load(\"example.fasta\", entries)\n",
    "print( len(entries) )\n",
    "for e in entries:\n",
    "    print (e.identifier, e.sequence)"
   ]
  },
  {
   "cell_type": "code",
   "execution_count": null,
   "id": "57638903",
   "metadata": {},
   "outputs": [],
   "source": []
  }
 ],
 "metadata": {
  "kernelspec": {
   "display_name": "Python 3 (ipykernel)",
   "language": "python",
   "name": "python3"
  },
  "language_info": {
   "codemirror_mode": {
    "name": "ipython",
    "version": 3
   },
   "file_extension": ".py",
   "mimetype": "text/x-python",
   "name": "python",
   "nbconvert_exporter": "python",
   "pygments_lexer": "ipython3",
   "version": "3.9.12"
  }
 },
 "nbformat": 4,
 "nbformat_minor": 5
}
