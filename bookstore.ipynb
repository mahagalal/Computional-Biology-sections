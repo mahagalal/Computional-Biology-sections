{
 "cells": [
  {
   "cell_type": "code",
   "execution_count": 1,
   "id": "4974c9c3",
   "metadata": {},
   "outputs": [
    {
     "name": "stdout",
     "output_type": "stream",
     "text": [
      "<?xml version=\"1.0\" encoding=\"UTF-8\"?>\n",
      "<bookstore>\n",
      "<book category=\"cooking\">\n",
      "<title lang=\"en\">Everyday Italian</title>\n",
      "<year>2005</year>\n",
      "<price>30.00</price>\n",
      "</book>\n",
      "<book category=\"children\">\n",
      "<title lang=\"en\">Harry Potter</title>\n",
      "<year>2005</year>\n",
      "<price>29.99</price>\n",
      "</book>\n",
      "<book category=\"web\">\n",
      "<title lang=\"en\">Learning XML</title>\n",
      "<year>2003</year>\n",
      "<price>39.95</price>\n",
      "</book>\n",
      "</bookstore>\n"
     ]
    }
   ],
   "source": [
    "with open('bookstore.xml') as f:\n",
    "    for line in f:\n",
    "        print(line.strip())"
   ]
  },
  {
   "cell_type": "code",
   "execution_count": 2,
   "id": "de2d75bc",
   "metadata": {},
   "outputs": [
    {
     "name": "stdout",
     "output_type": "stream",
     "text": [
      "bookstore\n"
     ]
    }
   ],
   "source": [
    "import xml.etree.ElementTree as ET\n",
    "tree = ET.parse('bookstore.xml')\n",
    "root = tree.getroot()\n",
    "print(root.tag)"
   ]
  },
  {
   "cell_type": "code",
   "execution_count": 3,
   "id": "63793818",
   "metadata": {},
   "outputs": [
    {
     "name": "stdout",
     "output_type": "stream",
     "text": [
      "book {'category': 'cooking'}\n",
      "2005\n",
      "book {'category': 'children'}\n",
      "2005\n",
      "book {'category': 'web'}\n",
      "2005\n"
     ]
    }
   ],
   "source": [
    "for child in root:\n",
    "    print(child.tag, child.attrib)\n",
    "    print(root[0][1].text)"
   ]
  },
  {
   "cell_type": "code",
   "execution_count": 4,
   "id": "4a6ca8a3",
   "metadata": {},
   "outputs": [
    {
     "name": "stdout",
     "output_type": "stream",
     "text": [
      "{'lang': 'en'}\n",
      "{'lang': 'en'}\n",
      "{'lang': 'en'}\n"
     ]
    }
   ],
   "source": [
    "for title in root.iter('title'):\n",
    "    print(title.attrib)"
   ]
  },
  {
   "cell_type": "code",
   "execution_count": null,
   "id": "708fc815",
   "metadata": {},
   "outputs": [],
   "source": []
  },
  {
   "cell_type": "code",
   "execution_count": null,
   "id": "149879f3",
   "metadata": {},
   "outputs": [],
   "source": []
  },
  {
   "cell_type": "code",
   "execution_count": null,
   "id": "529b0408",
   "metadata": {},
   "outputs": [],
   "source": []
  },
  {
   "cell_type": "code",
   "execution_count": null,
   "id": "535c532f",
   "metadata": {},
   "outputs": [],
   "source": []
  },
  {
   "cell_type": "code",
   "execution_count": null,
   "id": "c11899e9",
   "metadata": {},
   "outputs": [],
   "source": []
  }
 ],
 "metadata": {
  "kernelspec": {
   "display_name": "Python 3 (ipykernel)",
   "language": "python",
   "name": "python3"
  },
  "language_info": {
   "codemirror_mode": {
    "name": "ipython",
    "version": 3
   },
   "file_extension": ".py",
   "mimetype": "text/x-python",
   "name": "python",
   "nbconvert_exporter": "python",
   "pygments_lexer": "ipython3",
   "version": "3.9.12"
  }
 },
 "nbformat": 4,
 "nbformat_minor": 5
}
